{
  "nbformat": 4,
  "nbformat_minor": 0,
  "metadata": {
    "colab": {
      "provenance": [],
      "include_colab_link": true
    },
    "kernelspec": {
      "name": "python3",
      "display_name": "Python 3"
    },
    "language_info": {
      "name": "python"
    }
  },
  "cells": [
    {
      "cell_type": "markdown",
      "metadata": {
        "id": "view-in-github",
        "colab_type": "text"
      },
      "source": [
        "<a href=\"https://colab.research.google.com/github/Cotaquispe/alura_store_challenge/blob/main/AluraStoreLatam.ipynb\" target=\"_parent\"><img src=\"https://colab.research.google.com/assets/colab-badge.svg\" alt=\"Open In Colab\"/></a>"
      ]
    },
    {
      "cell_type": "markdown",
      "source": [
        "### Importación de datos\n",
        "\n"
      ],
      "metadata": {
        "id": "RhEdWd9YUR6H"
      }
    },
    {
      "cell_type": "code",
      "execution_count": null,
      "metadata": {
        "colab": {
          "base_uri": "https://localhost:8080/",
          "height": 206
        },
        "id": "T3EvaeQ_INIL",
        "outputId": "8c56ef5d-a56a-4f12-ac65-da27407cfcec"
      },
      "outputs": [
        {
          "output_type": "execute_result",
          "data": {
            "text/plain": [
              "            Producto Categoría del Producto    Precio  Costo de envío  \\\n",
              "0  Asistente virtual           Electrónicos  164300.0          6900.0   \n",
              "1    Mesa de comedor                Muebles  192300.0          8400.0   \n",
              "2      Juego de mesa               Juguetes  209600.0         15900.0   \n",
              "3         Microondas      Electrodomésticos  757500.0         41000.0   \n",
              "4   Silla de oficina                Muebles  335200.0         20200.0   \n",
              "\n",
              "  Fecha de Compra         Vendedor Lugar de Compra  Calificación  \\\n",
              "0      16/01/2021      Pedro Gomez          Bogotá             4   \n",
              "1      18/05/2022  Beatriz Morales        Medellín             1   \n",
              "2      15/03/2021   Juan Fernandez       Cartagena             1   \n",
              "3      03/05/2022   Juan Fernandez            Cali             4   \n",
              "4      07/11/2020    Maria Alfonso        Medellín             5   \n",
              "\n",
              "       Método de pago  Cantidad de cuotas       lat       lon  \n",
              "0  Tarjeta de crédito                   8   4.60971 -74.08175  \n",
              "1  Tarjeta de crédito                   4   6.25184 -75.56359  \n",
              "2  Tarjeta de crédito                   1  10.39972 -75.51444  \n",
              "3               Nequi                   1   3.43722 -76.52250  \n",
              "4               Nequi                   1   6.25184 -75.56359  "
            ],
            "text/html": [
              "\n",
              "  <div id=\"df-7505bca6-265b-4216-a4cc-f2eabe541adb\" class=\"colab-df-container\">\n",
              "    <div>\n",
              "<style scoped>\n",
              "    .dataframe tbody tr th:only-of-type {\n",
              "        vertical-align: middle;\n",
              "    }\n",
              "\n",
              "    .dataframe tbody tr th {\n",
              "        vertical-align: top;\n",
              "    }\n",
              "\n",
              "    .dataframe thead th {\n",
              "        text-align: right;\n",
              "    }\n",
              "</style>\n",
              "<table border=\"1\" class=\"dataframe\">\n",
              "  <thead>\n",
              "    <tr style=\"text-align: right;\">\n",
              "      <th></th>\n",
              "      <th>Producto</th>\n",
              "      <th>Categoría del Producto</th>\n",
              "      <th>Precio</th>\n",
              "      <th>Costo de envío</th>\n",
              "      <th>Fecha de Compra</th>\n",
              "      <th>Vendedor</th>\n",
              "      <th>Lugar de Compra</th>\n",
              "      <th>Calificación</th>\n",
              "      <th>Método de pago</th>\n",
              "      <th>Cantidad de cuotas</th>\n",
              "      <th>lat</th>\n",
              "      <th>lon</th>\n",
              "    </tr>\n",
              "  </thead>\n",
              "  <tbody>\n",
              "    <tr>\n",
              "      <th>0</th>\n",
              "      <td>Asistente virtual</td>\n",
              "      <td>Electrónicos</td>\n",
              "      <td>164300.0</td>\n",
              "      <td>6900.0</td>\n",
              "      <td>16/01/2021</td>\n",
              "      <td>Pedro Gomez</td>\n",
              "      <td>Bogotá</td>\n",
              "      <td>4</td>\n",
              "      <td>Tarjeta de crédito</td>\n",
              "      <td>8</td>\n",
              "      <td>4.60971</td>\n",
              "      <td>-74.08175</td>\n",
              "    </tr>\n",
              "    <tr>\n",
              "      <th>1</th>\n",
              "      <td>Mesa de comedor</td>\n",
              "      <td>Muebles</td>\n",
              "      <td>192300.0</td>\n",
              "      <td>8400.0</td>\n",
              "      <td>18/05/2022</td>\n",
              "      <td>Beatriz Morales</td>\n",
              "      <td>Medellín</td>\n",
              "      <td>1</td>\n",
              "      <td>Tarjeta de crédito</td>\n",
              "      <td>4</td>\n",
              "      <td>6.25184</td>\n",
              "      <td>-75.56359</td>\n",
              "    </tr>\n",
              "    <tr>\n",
              "      <th>2</th>\n",
              "      <td>Juego de mesa</td>\n",
              "      <td>Juguetes</td>\n",
              "      <td>209600.0</td>\n",
              "      <td>15900.0</td>\n",
              "      <td>15/03/2021</td>\n",
              "      <td>Juan Fernandez</td>\n",
              "      <td>Cartagena</td>\n",
              "      <td>1</td>\n",
              "      <td>Tarjeta de crédito</td>\n",
              "      <td>1</td>\n",
              "      <td>10.39972</td>\n",
              "      <td>-75.51444</td>\n",
              "    </tr>\n",
              "    <tr>\n",
              "      <th>3</th>\n",
              "      <td>Microondas</td>\n",
              "      <td>Electrodomésticos</td>\n",
              "      <td>757500.0</td>\n",
              "      <td>41000.0</td>\n",
              "      <td>03/05/2022</td>\n",
              "      <td>Juan Fernandez</td>\n",
              "      <td>Cali</td>\n",
              "      <td>4</td>\n",
              "      <td>Nequi</td>\n",
              "      <td>1</td>\n",
              "      <td>3.43722</td>\n",
              "      <td>-76.52250</td>\n",
              "    </tr>\n",
              "    <tr>\n",
              "      <th>4</th>\n",
              "      <td>Silla de oficina</td>\n",
              "      <td>Muebles</td>\n",
              "      <td>335200.0</td>\n",
              "      <td>20200.0</td>\n",
              "      <td>07/11/2020</td>\n",
              "      <td>Maria Alfonso</td>\n",
              "      <td>Medellín</td>\n",
              "      <td>5</td>\n",
              "      <td>Nequi</td>\n",
              "      <td>1</td>\n",
              "      <td>6.25184</td>\n",
              "      <td>-75.56359</td>\n",
              "    </tr>\n",
              "  </tbody>\n",
              "</table>\n",
              "</div>\n",
              "    <div class=\"colab-df-buttons\">\n",
              "\n",
              "  <div class=\"colab-df-container\">\n",
              "    <button class=\"colab-df-convert\" onclick=\"convertToInteractive('df-7505bca6-265b-4216-a4cc-f2eabe541adb')\"\n",
              "            title=\"Convert this dataframe to an interactive table.\"\n",
              "            style=\"display:none;\">\n",
              "\n",
              "  <svg xmlns=\"http://www.w3.org/2000/svg\" height=\"24px\" viewBox=\"0 -960 960 960\">\n",
              "    <path d=\"M120-120v-720h720v720H120Zm60-500h600v-160H180v160Zm220 220h160v-160H400v160Zm0 220h160v-160H400v160ZM180-400h160v-160H180v160Zm440 0h160v-160H620v160ZM180-180h160v-160H180v160Zm440 0h160v-160H620v160Z\"/>\n",
              "  </svg>\n",
              "    </button>\n",
              "\n",
              "  <style>\n",
              "    .colab-df-container {\n",
              "      display:flex;\n",
              "      gap: 12px;\n",
              "    }\n",
              "\n",
              "    .colab-df-convert {\n",
              "      background-color: #E8F0FE;\n",
              "      border: none;\n",
              "      border-radius: 50%;\n",
              "      cursor: pointer;\n",
              "      display: none;\n",
              "      fill: #1967D2;\n",
              "      height: 32px;\n",
              "      padding: 0 0 0 0;\n",
              "      width: 32px;\n",
              "    }\n",
              "\n",
              "    .colab-df-convert:hover {\n",
              "      background-color: #E2EBFA;\n",
              "      box-shadow: 0px 1px 2px rgba(60, 64, 67, 0.3), 0px 1px 3px 1px rgba(60, 64, 67, 0.15);\n",
              "      fill: #174EA6;\n",
              "    }\n",
              "\n",
              "    .colab-df-buttons div {\n",
              "      margin-bottom: 4px;\n",
              "    }\n",
              "\n",
              "    [theme=dark] .colab-df-convert {\n",
              "      background-color: #3B4455;\n",
              "      fill: #D2E3FC;\n",
              "    }\n",
              "\n",
              "    [theme=dark] .colab-df-convert:hover {\n",
              "      background-color: #434B5C;\n",
              "      box-shadow: 0px 1px 3px 1px rgba(0, 0, 0, 0.15);\n",
              "      filter: drop-shadow(0px 1px 2px rgba(0, 0, 0, 0.3));\n",
              "      fill: #FFFFFF;\n",
              "    }\n",
              "  </style>\n",
              "\n",
              "    <script>\n",
              "      const buttonEl =\n",
              "        document.querySelector('#df-7505bca6-265b-4216-a4cc-f2eabe541adb button.colab-df-convert');\n",
              "      buttonEl.style.display =\n",
              "        google.colab.kernel.accessAllowed ? 'block' : 'none';\n",
              "\n",
              "      async function convertToInteractive(key) {\n",
              "        const element = document.querySelector('#df-7505bca6-265b-4216-a4cc-f2eabe541adb');\n",
              "        const dataTable =\n",
              "          await google.colab.kernel.invokeFunction('convertToInteractive',\n",
              "                                                    [key], {});\n",
              "        if (!dataTable) return;\n",
              "\n",
              "        const docLinkHtml = 'Like what you see? Visit the ' +\n",
              "          '<a target=\"_blank\" href=https://colab.research.google.com/notebooks/data_table.ipynb>data table notebook</a>'\n",
              "          + ' to learn more about interactive tables.';\n",
              "        element.innerHTML = '';\n",
              "        dataTable['output_type'] = 'display_data';\n",
              "        await google.colab.output.renderOutput(dataTable, element);\n",
              "        const docLink = document.createElement('div');\n",
              "        docLink.innerHTML = docLinkHtml;\n",
              "        element.appendChild(docLink);\n",
              "      }\n",
              "    </script>\n",
              "  </div>\n",
              "\n",
              "\n",
              "<div id=\"df-5d9f02ac-97dd-422f-988a-82cb4a13184a\">\n",
              "  <button class=\"colab-df-quickchart\" onclick=\"quickchart('df-5d9f02ac-97dd-422f-988a-82cb4a13184a')\"\n",
              "            title=\"Suggest charts\"\n",
              "            style=\"display:none;\">\n",
              "\n",
              "<svg xmlns=\"http://www.w3.org/2000/svg\" height=\"24px\"viewBox=\"0 0 24 24\"\n",
              "     width=\"24px\">\n",
              "    <g>\n",
              "        <path d=\"M19 3H5c-1.1 0-2 .9-2 2v14c0 1.1.9 2 2 2h14c1.1 0 2-.9 2-2V5c0-1.1-.9-2-2-2zM9 17H7v-7h2v7zm4 0h-2V7h2v10zm4 0h-2v-4h2v4z\"/>\n",
              "    </g>\n",
              "</svg>\n",
              "  </button>\n",
              "\n",
              "<style>\n",
              "  .colab-df-quickchart {\n",
              "      --bg-color: #E8F0FE;\n",
              "      --fill-color: #1967D2;\n",
              "      --hover-bg-color: #E2EBFA;\n",
              "      --hover-fill-color: #174EA6;\n",
              "      --disabled-fill-color: #AAA;\n",
              "      --disabled-bg-color: #DDD;\n",
              "  }\n",
              "\n",
              "  [theme=dark] .colab-df-quickchart {\n",
              "      --bg-color: #3B4455;\n",
              "      --fill-color: #D2E3FC;\n",
              "      --hover-bg-color: #434B5C;\n",
              "      --hover-fill-color: #FFFFFF;\n",
              "      --disabled-bg-color: #3B4455;\n",
              "      --disabled-fill-color: #666;\n",
              "  }\n",
              "\n",
              "  .colab-df-quickchart {\n",
              "    background-color: var(--bg-color);\n",
              "    border: none;\n",
              "    border-radius: 50%;\n",
              "    cursor: pointer;\n",
              "    display: none;\n",
              "    fill: var(--fill-color);\n",
              "    height: 32px;\n",
              "    padding: 0;\n",
              "    width: 32px;\n",
              "  }\n",
              "\n",
              "  .colab-df-quickchart:hover {\n",
              "    background-color: var(--hover-bg-color);\n",
              "    box-shadow: 0 1px 2px rgba(60, 64, 67, 0.3), 0 1px 3px 1px rgba(60, 64, 67, 0.15);\n",
              "    fill: var(--button-hover-fill-color);\n",
              "  }\n",
              "\n",
              "  .colab-df-quickchart-complete:disabled,\n",
              "  .colab-df-quickchart-complete:disabled:hover {\n",
              "    background-color: var(--disabled-bg-color);\n",
              "    fill: var(--disabled-fill-color);\n",
              "    box-shadow: none;\n",
              "  }\n",
              "\n",
              "  .colab-df-spinner {\n",
              "    border: 2px solid var(--fill-color);\n",
              "    border-color: transparent;\n",
              "    border-bottom-color: var(--fill-color);\n",
              "    animation:\n",
              "      spin 1s steps(1) infinite;\n",
              "  }\n",
              "\n",
              "  @keyframes spin {\n",
              "    0% {\n",
              "      border-color: transparent;\n",
              "      border-bottom-color: var(--fill-color);\n",
              "      border-left-color: var(--fill-color);\n",
              "    }\n",
              "    20% {\n",
              "      border-color: transparent;\n",
              "      border-left-color: var(--fill-color);\n",
              "      border-top-color: var(--fill-color);\n",
              "    }\n",
              "    30% {\n",
              "      border-color: transparent;\n",
              "      border-left-color: var(--fill-color);\n",
              "      border-top-color: var(--fill-color);\n",
              "      border-right-color: var(--fill-color);\n",
              "    }\n",
              "    40% {\n",
              "      border-color: transparent;\n",
              "      border-right-color: var(--fill-color);\n",
              "      border-top-color: var(--fill-color);\n",
              "    }\n",
              "    60% {\n",
              "      border-color: transparent;\n",
              "      border-right-color: var(--fill-color);\n",
              "    }\n",
              "    80% {\n",
              "      border-color: transparent;\n",
              "      border-right-color: var(--fill-color);\n",
              "      border-bottom-color: var(--fill-color);\n",
              "    }\n",
              "    90% {\n",
              "      border-color: transparent;\n",
              "      border-bottom-color: var(--fill-color);\n",
              "    }\n",
              "  }\n",
              "</style>\n",
              "\n",
              "  <script>\n",
              "    async function quickchart(key) {\n",
              "      const quickchartButtonEl =\n",
              "        document.querySelector('#' + key + ' button');\n",
              "      quickchartButtonEl.disabled = true;  // To prevent multiple clicks.\n",
              "      quickchartButtonEl.classList.add('colab-df-spinner');\n",
              "      try {\n",
              "        const charts = await google.colab.kernel.invokeFunction(\n",
              "            'suggestCharts', [key], {});\n",
              "      } catch (error) {\n",
              "        console.error('Error during call to suggestCharts:', error);\n",
              "      }\n",
              "      quickchartButtonEl.classList.remove('colab-df-spinner');\n",
              "      quickchartButtonEl.classList.add('colab-df-quickchart-complete');\n",
              "    }\n",
              "    (() => {\n",
              "      let quickchartButtonEl =\n",
              "        document.querySelector('#df-5d9f02ac-97dd-422f-988a-82cb4a13184a button');\n",
              "      quickchartButtonEl.style.display =\n",
              "        google.colab.kernel.accessAllowed ? 'block' : 'none';\n",
              "    })();\n",
              "  </script>\n",
              "</div>\n",
              "\n",
              "    </div>\n",
              "  </div>\n"
            ],
            "application/vnd.google.colaboratory.intrinsic+json": {
              "type": "dataframe",
              "variable_name": "tienda",
              "summary": "{\n  \"name\": \"tienda\",\n  \"rows\": 2359,\n  \"fields\": [\n    {\n      \"column\": \"Producto\",\n      \"properties\": {\n        \"dtype\": \"category\",\n        \"num_unique_values\": 51,\n        \"samples\": [\n          \"Guitarra ac\\u00fastica\",\n          \"Bal\\u00f3n de baloncesto\",\n          \"Smartwatch\"\n        ],\n        \"semantic_type\": \"\",\n        \"description\": \"\"\n      }\n    },\n    {\n      \"column\": \"Categor\\u00eda del Producto\",\n      \"properties\": {\n        \"dtype\": \"category\",\n        \"num_unique_values\": 8,\n        \"samples\": [\n          \"Muebles\",\n          \"Deportes y diversi\\u00f3n\",\n          \"Electr\\u00f3nicos\"\n        ],\n        \"semantic_type\": \"\",\n        \"description\": \"\"\n      }\n    },\n    {\n      \"column\": \"Precio\",\n      \"properties\": {\n        \"dtype\": \"number\",\n        \"std\": 614686.7653873172,\n        \"min\": 7600.0,\n        \"max\": 2977000.0,\n        \"num_unique_values\": 1937,\n        \"samples\": [\n          2499400.0,\n          14800.0,\n          80500.0\n        ],\n        \"semantic_type\": \"\",\n        \"description\": \"\"\n      }\n    },\n    {\n      \"column\": \"Costo de env\\u00edo\",\n      \"properties\": {\n        \"dtype\": \"number\",\n        \"std\": 32860.0017825605,\n        \"min\": 0.0,\n        \"max\": 160800.0,\n        \"num_unique_values\": 753,\n        \"samples\": [\n          117800.0,\n          54700.0,\n          45600.0\n        ],\n        \"semantic_type\": \"\",\n        \"description\": \"\"\n      }\n    },\n    {\n      \"column\": \"Fecha de Compra\",\n      \"properties\": {\n        \"dtype\": \"object\",\n        \"num_unique_values\": 1018,\n        \"samples\": [\n          \"15/09/2022\",\n          \"03/06/2020\",\n          \"06/11/2021\"\n        ],\n        \"semantic_type\": \"\",\n        \"description\": \"\"\n      }\n    },\n    {\n      \"column\": \"Vendedor\",\n      \"properties\": {\n        \"dtype\": \"category\",\n        \"num_unique_values\": 14,\n        \"samples\": [\n          \"Juliana Costa\",\n          \"Mariana Herrera\",\n          \"Pedro Gomez\"\n        ],\n        \"semantic_type\": \"\",\n        \"description\": \"\"\n      }\n    },\n    {\n      \"column\": \"Lugar de Compra\",\n      \"properties\": {\n        \"dtype\": \"category\",\n        \"num_unique_values\": 19,\n        \"samples\": [\n          \"Bogot\\u00e1\",\n          \"Pereira\",\n          \"Neiva\"\n        ],\n        \"semantic_type\": \"\",\n        \"description\": \"\"\n      }\n    },\n    {\n      \"column\": \"Calificaci\\u00f3n\",\n      \"properties\": {\n        \"dtype\": \"number\",\n        \"std\": 1,\n        \"min\": 1,\n        \"max\": 5,\n        \"num_unique_values\": 5,\n        \"samples\": [\n          1,\n          2,\n          5\n        ],\n        \"semantic_type\": \"\",\n        \"description\": \"\"\n      }\n    },\n    {\n      \"column\": \"M\\u00e9todo de pago\",\n      \"properties\": {\n        \"dtype\": \"category\",\n        \"num_unique_values\": 4,\n        \"samples\": [\n          \"Nequi\",\n          \"Tarjeta de d\\u00e9bito\",\n          \"Tarjeta de cr\\u00e9dito\"\n        ],\n        \"semantic_type\": \"\",\n        \"description\": \"\"\n      }\n    },\n    {\n      \"column\": \"Cantidad de cuotas\",\n      \"properties\": {\n        \"dtype\": \"number\",\n        \"std\": 2,\n        \"min\": 1,\n        \"max\": 24,\n        \"num_unique_values\": 15,\n        \"samples\": [\n          7,\n          14,\n          8\n        ],\n        \"semantic_type\": \"\",\n        \"description\": \"\"\n      }\n    },\n    {\n      \"column\": \"lat\",\n      \"properties\": {\n        \"dtype\": \"number\",\n        \"std\": 2.2874452492678627,\n        \"min\": -4.21528,\n        \"max\": 11.54444,\n        \"num_unique_values\": 19,\n        \"samples\": [\n          4.60971,\n          4.81333,\n          2.9273\n        ],\n        \"semantic_type\": \"\",\n        \"description\": \"\"\n      }\n    },\n    {\n      \"column\": \"lon\",\n      \"properties\": {\n        \"dtype\": \"number\",\n        \"std\": 1.2178272727088486,\n        \"min\": -77.28111,\n        \"max\": -67.9239,\n        \"num_unique_values\": 19,\n        \"samples\": [\n          -74.08175,\n          -75.69611,\n          -75.28189\n        ],\n        \"semantic_type\": \"\",\n        \"description\": \"\"\n      }\n    }\n  ]\n}"
            }
          },
          "metadata": {},
          "execution_count": 57
        }
      ],
      "source": [
        "import pandas as pd\n",
        "\n",
        "url = \"https://raw.githubusercontent.com/alura-es-cursos/challenge1-data-science-latam/refs/heads/main/base-de-datos-challenge1-latam/tienda_1%20.csv\"\n",
        "url2 = \"https://raw.githubusercontent.com/alura-es-cursos/challenge1-data-science-latam/refs/heads/main/base-de-datos-challenge1-latam/tienda_2.csv\"\n",
        "url3 = \"https://raw.githubusercontent.com/alura-es-cursos/challenge1-data-science-latam/refs/heads/main/base-de-datos-challenge1-latam/tienda_3.csv\"\n",
        "url4 = \"https://raw.githubusercontent.com/alura-es-cursos/challenge1-data-science-latam/refs/heads/main/base-de-datos-challenge1-latam/tienda_4.csv\"\n",
        "\n",
        "tienda = pd.read_csv(url)\n",
        "tienda2 = pd.read_csv(url2)\n",
        "tienda3 = pd.read_csv(url3)\n",
        "tienda4 = pd.read_csv(url4)\n",
        "\n",
        "tienda.head()"
      ]
    },
    {
      "cell_type": "markdown",
      "source": [
        "#1. Análisis de facturación\n",
        "\n"
      ],
      "metadata": {
        "id": "X62IW3KFUIYm"
      }
    },
    {
      "cell_type": "code",
      "source": [
        "# Crear diccionario vacío\n",
        "datos_tiendas = {}\n",
        "\n",
        "# Registrar ingresos\n",
        "ingresos = {\n",
        "    \"Tienda 1\": float(tienda['Precio'].sum()),\n",
        "    \"Tienda 2\": float(tienda2['Precio'].sum()),\n",
        "    \"Tienda 3\": float(tienda3['Precio'].sum()),\n",
        "    \"Tienda 4\": float(tienda4['Precio'].sum())\n",
        "}\n",
        "\n",
        "print(ingresos)"
      ],
      "metadata": {
        "id": "xykobSftV64I",
        "colab": {
          "base_uri": "https://localhost:8080/"
        },
        "outputId": "d70b447a-63a9-4ab5-dc30-1c021a27cc48"
      },
      "execution_count": null,
      "outputs": [
        {
          "output_type": "stream",
          "name": "stdout",
          "text": [
            "{'Tienda 1': 1150880400.0, 'Tienda 2': 1116343500.0, 'Tienda 3': 1098019600.0, 'Tienda 4': 1038375700.0}\n"
          ]
        }
      ]
    },
    {
      "cell_type": "code",
      "source": [
        "# Guardar ingresos en el diccionario\n",
        "for nombre_tienda, ingreso in ingresos.items():\n",
        "    print(f\"{nombre_tienda}: ${ingreso}\")\n",
        "    datos_tiendas[nombre_tienda] = {'Ingresos': ingreso}\n",
        "\n",
        "print(datos_tiendas)"
      ],
      "metadata": {
        "id": "KDyr8E71V3m-",
        "colab": {
          "base_uri": "https://localhost:8080/"
        },
        "outputId": "8d1fc137-de16-4df8-f075-fe207ae2bb47"
      },
      "execution_count": null,
      "outputs": [
        {
          "output_type": "stream",
          "name": "stdout",
          "text": [
            "Tienda 1: $1150880400.0\n",
            "Tienda 2: $1116343500.0\n",
            "Tienda 3: $1098019600.0\n",
            "Tienda 4: $1038375700.0\n",
            "{'Tienda 1': {'Ingresos': 1150880400.0}, 'Tienda 2': {'Ingresos': 1116343500.0}, 'Tienda 3': {'Ingresos': 1098019600.0}, 'Tienda 4': {'Ingresos': 1038375700.0}}\n"
          ]
        }
      ]
    },
    {
      "cell_type": "markdown",
      "source": [
        "# 2. Ventas por categoría"
      ],
      "metadata": {
        "id": "2V_vcAPzWZmR"
      }
    },
    {
      "cell_type": "code",
      "source": [
        "# Función para agrupar y contar las repeticiones de la categoria y guardar en el diccionario\n",
        "def contar_por_categoria(df, nombre_tienda):\n",
        "    contar = df[\"Categoría del Producto\"].value_counts().idxmax()\n",
        "    print(f\"\\n Categoría más vendida en {nombre_tienda}: {contar}\")\n",
        "    datos_tiendas[nombre_tienda]['Categoría más Vendida'] = contar\n",
        "\n",
        "# Ejecutamos para cada tienda\n",
        "contar_por_categoria(tienda, \"Tienda 1\")\n",
        "contar_por_categoria(tienda2, \"Tienda 2\")\n",
        "contar_por_categoria(tienda3, \"Tienda 3\")\n",
        "contar_por_categoria(tienda4, \"Tienda 4\")"
      ],
      "metadata": {
        "id": "A34YupIuYhfF",
        "colab": {
          "base_uri": "https://localhost:8080/"
        },
        "outputId": "47354a9a-ca39-4fb6-9b78-9ebab25438b7"
      },
      "execution_count": null,
      "outputs": [
        {
          "output_type": "stream",
          "name": "stdout",
          "text": [
            "\n",
            " Categoría más vendida en Tienda 1: Muebles\n",
            "\n",
            " Categoría más vendida en Tienda 2: Muebles\n",
            "\n",
            " Categoría más vendida en Tienda 3: Muebles\n",
            "\n",
            " Categoría más vendida en Tienda 4: Muebles\n"
          ]
        }
      ]
    },
    {
      "cell_type": "code",
      "source": [
        "print(datos_tiendas)"
      ],
      "metadata": {
        "id": "yZR6cOjXYSk1",
        "colab": {
          "base_uri": "https://localhost:8080/"
        },
        "outputId": "e055f3e6-6c50-48a1-b987-fcc2e0143325"
      },
      "execution_count": null,
      "outputs": [
        {
          "output_type": "stream",
          "name": "stdout",
          "text": [
            "{'Tienda 1': {'Ingresos': 1150880400.0, 'Categoría más Vendida': 'Muebles'}, 'Tienda 2': {'Ingresos': 1116343500.0, 'Categoría más Vendida': 'Muebles'}, 'Tienda 3': {'Ingresos': 1098019600.0, 'Categoría más Vendida': 'Muebles'}, 'Tienda 4': {'Ingresos': 1038375700.0, 'Categoría más Vendida': 'Muebles'}}\n"
          ]
        }
      ]
    },
    {
      "cell_type": "markdown",
      "source": [
        "# 3. Calificación promedio de la tienda\n"
      ],
      "metadata": {
        "id": "Rq6tU_xSY3jk"
      }
    },
    {
      "cell_type": "code",
      "source": [
        "# Funcion para calcular el promedio y guardar en el diccionario\n",
        "def promedio_calificacion(df, nombre_tienda):\n",
        "    promedio = float(round(df[\"Calificación\"].mean(), 2))\n",
        "    print(f\"Calificación promedio de la tienda {nombre_tienda}: {promedio}\")\n",
        "    datos_tiendas[nombre_tienda]['Calificación Promedio'] = promedio\n",
        "\n",
        "# Ejecutamos la función\n",
        "promedio_calificacion(tienda, \"Tienda 1\")\n",
        "promedio_calificacion(tienda2, \"Tienda 2\")\n",
        "promedio_calificacion(tienda3, \"Tienda 3\")\n",
        "promedio_calificacion(tienda4, \"Tienda 4\")"
      ],
      "metadata": {
        "id": "bh3jjjJwY5MU",
        "colab": {
          "base_uri": "https://localhost:8080/"
        },
        "outputId": "f0bac2e2-e74b-4ff1-9b75-36acdbdd15d0"
      },
      "execution_count": null,
      "outputs": [
        {
          "output_type": "stream",
          "name": "stdout",
          "text": [
            "Calificación promedio de la tienda Tienda 1: 3.98\n",
            "Calificación promedio de la tienda Tienda 2: 4.04\n",
            "Calificación promedio de la tienda Tienda 3: 4.05\n",
            "Calificación promedio de la tienda Tienda 4: 4.0\n"
          ]
        }
      ]
    },
    {
      "cell_type": "code",
      "source": [
        "print(datos_tiendas)"
      ],
      "metadata": {
        "id": "I0KkjPoTY88F",
        "colab": {
          "base_uri": "https://localhost:8080/"
        },
        "outputId": "5d78a93a-bef4-4dee-d951-ddd8bf297f92"
      },
      "execution_count": null,
      "outputs": [
        {
          "output_type": "stream",
          "name": "stdout",
          "text": [
            "{'Tienda 1': {'Ingresos': 1150880400.0, 'Categoría más Vendida': 'Muebles', 'Calificación Promedio': 3.98}, 'Tienda 2': {'Ingresos': 1116343500.0, 'Categoría más Vendida': 'Muebles', 'Calificación Promedio': 4.04}, 'Tienda 3': {'Ingresos': 1098019600.0, 'Categoría más Vendida': 'Muebles', 'Calificación Promedio': 4.05}, 'Tienda 4': {'Ingresos': 1038375700.0, 'Categoría más Vendida': 'Muebles', 'Calificación Promedio': 4.0}}\n"
          ]
        }
      ]
    },
    {
      "cell_type": "markdown",
      "source": [
        "# 4. Productos más y menos vendidos"
      ],
      "metadata": {
        "id": "DmNp1KPBZCm-"
      }
    },
    {
      "cell_type": "code",
      "source": [
        "# Función para identificar el producto más y menos vendido y agregar al diccionario\n",
        "def producto_mas_menos(df, nombre_tienda):\n",
        "    conteo = df[\"Producto\"].value_counts()\n",
        "    mas_vendida = conteo.idxmax()\n",
        "    menos_vendida = conteo.idxmin()\n",
        "    print(f\"La producto más vendida en {nombre_tienda}: {mas_vendida}\")\n",
        "    print(f\"La prodcuto menos vendida en {nombre_tienda}: {menos_vendida}\")\n",
        "    datos_tiendas[nombre_tienda]['Producto Más Vendida'] = mas_vendida\n",
        "    datos_tiendas[nombre_tienda]['Producto Menos Vendida'] = menos_vendida\n",
        "\n",
        "producto_mas_menos(tienda, \"Tienda 1\")\n",
        "producto_mas_menos(tienda2, \"Tienda 2\")\n",
        "producto_mas_menos(tienda3, \"Tienda 3\")\n",
        "producto_mas_menos(tienda4, \"Tienda 4\")"
      ],
      "metadata": {
        "id": "qoyjqijQZHfF",
        "colab": {
          "base_uri": "https://localhost:8080/"
        },
        "outputId": "3c890854-16ac-4766-a8a4-f643e160867d"
      },
      "execution_count": null,
      "outputs": [
        {
          "output_type": "stream",
          "name": "stdout",
          "text": [
            "La producto más vendida en Tienda 1: Microondas\n",
            "La prodcuto menos vendida en Tienda 1: Auriculares con micrófono\n",
            "La producto más vendida en Tienda 2: Iniciando en programación\n",
            "La prodcuto menos vendida en Tienda 2: Juego de mesa\n",
            "La producto más vendida en Tienda 3: Kit de bancas\n",
            "La prodcuto menos vendida en Tienda 3: Bloques de construcción\n",
            "La producto más vendida en Tienda 4: Cama box\n",
            "La prodcuto menos vendida en Tienda 4: Guitarra eléctrica\n"
          ]
        }
      ]
    },
    {
      "cell_type": "code",
      "source": [
        "print(datos_tiendas)\n"
      ],
      "metadata": {
        "id": "0Sw3sd4IZIGW",
        "colab": {
          "base_uri": "https://localhost:8080/"
        },
        "outputId": "45cdd927-36bc-4e08-a46e-122cff5ef5e9"
      },
      "execution_count": null,
      "outputs": [
        {
          "output_type": "stream",
          "name": "stdout",
          "text": [
            "{'Tienda 1': {'Ingresos': 1150880400.0, 'Categoría más Vendida': 'Muebles', 'Calificación Promedio': 3.98, 'Producto Más Vendida': 'Microondas', 'Producto Menos Vendida': 'Auriculares con micrófono'}, 'Tienda 2': {'Ingresos': 1116343500.0, 'Categoría más Vendida': 'Muebles', 'Calificación Promedio': 4.04, 'Producto Más Vendida': 'Iniciando en programación', 'Producto Menos Vendida': 'Juego de mesa'}, 'Tienda 3': {'Ingresos': 1098019600.0, 'Categoría más Vendida': 'Muebles', 'Calificación Promedio': 4.05, 'Producto Más Vendida': 'Kit de bancas', 'Producto Menos Vendida': 'Bloques de construcción'}, 'Tienda 4': {'Ingresos': 1038375700.0, 'Categoría más Vendida': 'Muebles', 'Calificación Promedio': 4.0, 'Producto Más Vendida': 'Cama box', 'Producto Menos Vendida': 'Guitarra eléctrica'}}\n"
          ]
        }
      ]
    },
    {
      "cell_type": "markdown",
      "source": [
        "# 5. Envío promedio por tienda"
      ],
      "metadata": {
        "id": "Fl0cGi3bZKqU"
      }
    },
    {
      "cell_type": "code",
      "source": [
        "# Funcion para calcular el costo de envío promedio y guardar en el diccionario\n",
        "def promedio_envio(df, nombre_tienda):\n",
        "    promedio = float(round(df[\"Costo de envío\"].mean(), 2))\n",
        "    print(f\"Costo de envío promedio de la tienda {nombre_tienda}: ${promedio}\")\n",
        "    datos_tiendas[nombre_tienda]['Costo Envío Promedio'] = promedio\n",
        "\n",
        "promedio_envio(tienda, \"Tienda 1\")\n",
        "promedio_envio(tienda2, \"Tienda 2\")\n",
        "promedio_envio(tienda3, \"Tienda 3\")\n",
        "promedio_envio(tienda4, \"Tienda 4\")"
      ],
      "metadata": {
        "id": "0tSdCie9ZQlt",
        "colab": {
          "base_uri": "https://localhost:8080/"
        },
        "outputId": "d2b05a72-6e2c-41ce-ce30-b54acd99a4bd"
      },
      "execution_count": null,
      "outputs": [
        {
          "output_type": "stream",
          "name": "stdout",
          "text": [
            "Costo de envío promedio de la tienda Tienda 1: $26018.61\n",
            "Costo de envío promedio de la tienda Tienda 2: $25216.24\n",
            "Costo de envío promedio de la tienda Tienda 3: $24805.68\n",
            "Costo de envío promedio de la tienda Tienda 4: $23459.46\n"
          ]
        }
      ]
    },
    {
      "cell_type": "code",
      "source": [
        "print(datos_tiendas)\n"
      ],
      "metadata": {
        "colab": {
          "base_uri": "https://localhost:8080/"
        },
        "id": "IMHHyqAFrJZg",
        "outputId": "ff23b38f-ff76-404c-c6ff-9dcaa7d786d9"
      },
      "execution_count": null,
      "outputs": [
        {
          "output_type": "stream",
          "name": "stdout",
          "text": [
            "{'Tienda 1': {'Ingresos': 1150880400.0, 'Categoría más Vendida': 'Muebles', 'Calificación Promedio': 3.98, 'Producto Más Vendida': 'Microondas', 'Producto Menos Vendida': 'Auriculares con micrófono', 'Costo Envío Promedio': 26018.61}, 'Tienda 2': {'Ingresos': 1116343500.0, 'Categoría más Vendida': 'Muebles', 'Calificación Promedio': 4.04, 'Producto Más Vendida': 'Iniciando en programación', 'Producto Menos Vendida': 'Juego de mesa', 'Costo Envío Promedio': 25216.24}, 'Tienda 3': {'Ingresos': 1098019600.0, 'Categoría más Vendida': 'Muebles', 'Calificación Promedio': 4.05, 'Producto Más Vendida': 'Kit de bancas', 'Producto Menos Vendida': 'Bloques de construcción', 'Costo Envío Promedio': 24805.68}, 'Tienda 4': {'Ingresos': 1038375700.0, 'Categoría más Vendida': 'Muebles', 'Calificación Promedio': 4.0, 'Producto Más Vendida': 'Cama box', 'Producto Menos Vendida': 'Guitarra eléctrica', 'Costo Envío Promedio': 23459.46}}\n"
          ]
        }
      ]
    },
    {
      "cell_type": "code",
      "source": [
        "import matplotlib.pyplot as plt\n",
        "\n",
        "# Extraer nombres de tiendas e ingresos\n",
        "tiendas = list(datos_tiendas.keys())\n",
        "ingresos = [datos_tiendas[tienda]['Ingresos'] for tienda in tiendas]\n",
        "\n",
        "# Crear gráfico de barras\n",
        "plt.figure(figsize=(8, 5))\n",
        "plt.bar(tiendas, ingresos, color='skyblue')\n",
        "plt.xlabel('Tiendas')\n",
        "plt.ylabel('Ingresos')\n",
        "plt.title('Ingresos por Tienda')\n",
        "plt.xticks(rotation=45)\n",
        "plt.tight_layout()\n",
        "plt.show()"
      ],
      "metadata": {
        "colab": {
          "base_uri": "https://localhost:8080/",
          "height": 507
        },
        "id": "fZtgzKVErK3F",
        "outputId": "6f65935c-d16d-4d4b-821c-7f5f49206763"
      },
      "execution_count": null,
      "outputs": [
        {
          "output_type": "display_data",
          "data": {
            "text/plain": [
              "<Figure size 800x500 with 1 Axes>"
            ],
            "image/png": "[encoded data removed]"
          },
          "metadata": {}
        }
      ]
    },
    {
      "cell_type": "code",
      "source": [
        "# Datos para el gráfico\n",
        "costos_envio = [datos_tiendas[t]['Costo Envío Promedio'] for t in tiendas]\n",
        "\n",
        "# Gráfico de líneas\n",
        "plt.figure(figsize=(8, 5))\n",
        "plt.plot(tiendas, costos_envio, marker='o', linestyle='-', color='orange')\n",
        "plt.xlabel('Tiendas')\n",
        "plt.ylabel('Costo de Envío Promedio')\n",
        "plt.title('Costo de Envío Promedio por Tienda')\n",
        "plt.grid(True)\n",
        "plt.tight_layout()\n",
        "plt.show()"
      ],
      "metadata": {
        "colab": {
          "base_uri": "https://localhost:8080/",
          "height": 507
        },
        "id": "eakeqMYV7fM2",
        "outputId": "079930bc-8eb3-4825-c020-4069e13f4ec6"
      },
      "execution_count": null,
      "outputs": [
        {
          "output_type": "display_data",
          "data": {
            "text/plain": [
              "<Figure size 800x500 with 1 Axes>"
            ],
            "image/png": "[encoded data removed]"
          },
          "metadata": {}
        }
      ]
    },
    {
      "cell_type": "code",
      "source": [
        "calificaciones = [datos_tiendas[t]['Calificación Promedio'] for t in tiendas]\n",
        "\n",
        "plt.figure(figsize=(8, 5))\n",
        "plt.scatter(calificaciones, ingresos, color='green')\n",
        "\n",
        "for i, tienda in enumerate(tiendas):\n",
        "    plt.annotate(tienda, (calificaciones[i], ingresos[i]))\n",
        "\n",
        "plt.xlabel('Calificación Promedio')\n",
        "plt.ylabel('Ingresos')\n",
        "plt.title('Relación entre Calificación e Ingresos')\n",
        "plt.grid(True)\n",
        "plt.tight_layout()\n",
        "plt.show()"
      ],
      "metadata": {
        "colab": {
          "base_uri": "https://localhost:8080/",
          "height": 507
        },
        "id": "7yoWLVu7_OuU",
        "outputId": "4a1a39c1-a68a-403a-acb9-908bf2d6a28a"
      },
      "execution_count": null,
      "outputs": [
        {
          "output_type": "display_data",
          "data": {
            "text/plain": [
              "<Figure size 800x500 with 1 Axes>"
            ],
            "image/png": "[encoded data removed]"
          },
          "metadata": {}
        }
      ]
    },
    {
      "cell_type": "markdown",
      "source": [
        "**DECISIÓN FINAL**\n",
        "\n",
        "1. Ingresos por Tienda (Gráfico de Barras)\n",
        "\n",
        "Tienda 1: Es la que más ingresos genera (~1,150 millones).\n",
        "\n",
        "Tienda 4: Es la que menos ingresos genera (~1,038 millones).\n",
        "\n",
        "*Tienda 4 es la más débil en ingresos, lo cual es un indicador importante a considerar para su eliminación.*\n",
        "\n",
        "\n",
        "2. Costo de Envío Promedio (Gráfico de Línea)\n",
        "\n",
        "Tienda 1: Tiene el costo de envío promedio más alto (~26,000).\n",
        "\n",
        "Tienda 4: Tiene el costo de envío promedio más bajo (~23,459).\n",
        "\n",
        "*Aquí Tienda 4 es la más eficiente, ya que tiene menor gasto en envío. Este punto es a favor de Tienda 4*\n",
        "\n",
        "\n",
        "\n",
        "3. Calificación Promedio (Gráfico de Líneas - Imagen 3 subida)\n",
        "\n",
        "Tienda 3: Tiene la mejor calificación (4.05).\n",
        "\n",
        "Tienda 1 y Tienda 4: Tienen las calificaciones más bajas (~3.98 y 4.00 respectivamente).\n",
        "\n",
        "*Tienda 4 no destaca en la satisfacción del cliente, aunque está ligeramente por encima de Tienda 1.*\n"
      ],
      "metadata": {
        "id": "SyCBE-4nBosX"
      }
    },
    {
      "cell_type": "markdown",
      "source": [
        "**Conclusión Final: ¿Qué tienda debe eliminarse?**\n",
        "\n",
        "Aunque LA Tienda 4 tiene el envío más económico, esta ventaja no compensa sus bajos ingresos ni su calificación promedio sin destacar. Desde un punto de vista estratégico, cerrarla permitiría enfocar recursos en tiendas con mejor desempeño financiero y de satisfacción del cliente.\n",
        "\n",
        "En resumen:\n",
        "\n",
        "\n",
        "> “Ser barato no basta si no generas ingresos ni fidelizas al cliente.”\n",
        "\n"
      ],
      "metadata": {
        "id": "10r7_La5CzBf"
      }
    },
    {
      "cell_type": "markdown",
      "source": [],
      "metadata": {
        "id": "QlOMj5DJBtrS"
      }
    }
  ]
}